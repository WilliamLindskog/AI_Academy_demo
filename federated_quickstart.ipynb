{
 "cells": [
  {
   "cell_type": "markdown",
   "metadata": {},
   "source": [
    "# Federated Learning using PyTorch and Flower\n",
    "\n",
    "This tutorial will show how to leverage PyTorch to federate the training of a convolutional neural network over multiple clients using [Flower](https://flower.dev/). More specifically, we will use a ResNet model for the CIFAR10 dataset. The end goal is to classify 10 different objects in small images. "
   ]
  },
  {
   "cell_type": "code",
   "execution_count": 2,
   "metadata": {},
   "outputs": [
    {
     "name": "stdout",
     "output_type": "stream",
     "text": [
      "\u001b[33mWARNING: You are using pip version 21.1.1; however, version 23.3.1 is available.\n",
      "You should consider upgrading via the '/home/w.lindskog/.pyenv/versions/3.9.5/bin/python3.9 -m pip install --upgrade pip' command.\u001b[0m\n"
     ]
    }
   ],
   "source": [
    "!pip install -q flwr[\"simulation\"] torch torchvision"
   ]
  },
  {
   "cell_type": "markdown",
   "metadata": {},
   "source": [
    "We can now import the relevant modules."
   ]
  },
  {
   "cell_type": "code",
   "execution_count": 3,
   "metadata": {},
   "outputs": [],
   "source": [
    "from collections import OrderedDict\n",
    "from typing import Callable, Dict, List, Optional, Tuple, Union\n",
    "import os\n",
    "import random\n",
    "import warnings\n",
    "\n",
    "import flwr as fl\n",
    "import torch\n",
    "import torchvision\n",
    "from torchvision import transforms\n",
    "\n",
    "from torch.utils.data import DataLoader"
   ]
  },
  {
   "cell_type": "markdown",
   "metadata": {},
   "source": [
    "Next we will set some global variables and disable some of the logging to clear out our output."
   ]
  },
  {
   "cell_type": "code",
   "execution_count": 22,
   "metadata": {},
   "outputs": [],
   "source": [
    "warnings.filterwarnings(\"ignore\", category=UserWarning)\n",
    "warnings.filterwarnings(\"ignore\", category=DeprecationWarning)\n",
    "os.environ['TF_CPP_MIN_LOG_LEVEL'] = '2'\n",
    "warnings.simplefilter('ignore')\n",
    "\n",
    "DEVICE = torch.device(\"cuda:0\")\n",
    "NUM_CLIENTS = 2\n",
    "NUM_ROUNDS = 3"
   ]
  },
  {
   "cell_type": "markdown",
   "metadata": {},
   "source": [
    "Next, we'll create a function that fetches the data from torchvision. "
   ]
  },
  {
   "cell_type": "code",
   "execution_count": 5,
   "metadata": {},
   "outputs": [],
   "source": [
    "def load_data() -> Union[DataLoader, DataLoader]:\n",
    "    \"\"\" Load data CIFAR10 from torchvision.datasets \"\"\"\n",
    "    # Set transform\n",
    "    transform = transforms.Compose(\n",
    "        [\n",
    "            # cifar10 optimal transform\n",
    "            transforms.Resize((224, 224)),\n",
    "            transforms.RandomCrop(224, padding=4),\n",
    "            transforms.RandomHorizontalFlip(),\n",
    "            transforms.ToTensor(),\n",
    "            transforms.Normalize(\n",
    "                mean=[0.49139968, 0.48215841, 0.44653091],\n",
    "                std=[0.24703223, 0.24348513, 0.26158784],\n",
    "            ),\n",
    "        ]\n",
    "    )\n",
    "\n",
    "    train_dataset = torchvision.datasets.CIFAR10(\n",
    "        root=\"~/torch_datasets\", train=True, transform=transform, download=True\n",
    "    )\n",
    "    test_dataset = torchvision.datasets.CIFAR10(\n",
    "        root=\"~/torch_datasets\", train=False, transform=transform, download=True\n",
    "    )\n",
    "\n",
    "    # Set to data loader\n",
    "    train_loader = torch.utils.data.DataLoader(\n",
    "        train_dataset, batch_size=32, shuffle=True, num_workers=4, pin_memory=True\n",
    "    )\n",
    "    test_loader = torch.utils.data.DataLoader(\n",
    "        test_dataset, batch_size=32, shuffle=False, num_workers=4, pin_memory=True\n",
    "    )\n",
    "\n",
    "    return train_loader, test_loader"
   ]
  },
  {
   "cell_type": "markdown",
   "metadata": {},
   "source": [
    "Next, we get a pretrained resNet model. "
   ]
  },
  {
   "cell_type": "code",
   "execution_count": 6,
   "metadata": {},
   "outputs": [],
   "source": [
    "# Get resnet18 model\n",
    "def get_model() -> torch.nn.Module:\n",
    "    \"\"\" Get ResNet18 model \"\"\"\n",
    "    model = torchvision.models.resnet18(pretrained=True)\n",
    "    model.fc = torch.nn.Linear(512, 10)\n",
    "    return model"
   ]
  },
  {
   "cell_type": "code",
   "execution_count": 23,
   "metadata": {},
   "outputs": [],
   "source": [
    "def train(net, trainloader, epochs):\n",
    "    optimizer = torch.optim.Adam(net.parameters(), lr=5e-4)\n",
    "    net.train()\n",
    "    for _ in range(epochs):\n",
    "        for batch in trainloader:\n",
    "            batch = {k: v.to(DEVICE) for k, v in batch.items()}\n",
    "            outputs = net(**batch)\n",
    "            loss = outputs.loss\n",
    "            loss.backward()\n",
    "            optimizer.step()\n",
    "            optimizer.zero_grad()\n",
    "\n",
    "\n",
    "def test(net, testloader):\n",
    "    loss = 0\n",
    "    net.eval()\n",
    "    total, correct = 0, 0\n",
    "    for batch in testloader:\n",
    "        batch = {k: v.to(DEVICE) for k, v in batch.items()}\n",
    "        with torch.no_grad():\n",
    "            outputs = net(**batch)\n",
    "        logits = outputs.logits\n",
    "        loss += outputs.loss.item()\n",
    "        predictions = torch.argmax(logits, dim=-1)\n",
    "        total += batch[\"labels\"].size(0)\n",
    "        correct += (predictions == batch[\"labels\"]).sum().item()\n",
    "    accuracy = correct / total\n",
    "    loss /= len(testloader.dataset)\n",
    "    return loss, accuracy"
   ]
  },
  {
   "cell_type": "code",
   "execution_count": 24,
   "metadata": {},
   "outputs": [
    {
     "ename": "RuntimeError",
     "evalue": "No CUDA GPUs are available",
     "output_type": "error",
     "traceback": [
      "\u001b[0;31m---------------------------------------------------------------------------\u001b[0m",
      "\u001b[0;31mRuntimeError\u001b[0m                              Traceback (most recent call last)",
      "\u001b[1;32m/home/w.lindskog/Documents/PhD/TUM_ai/AI_Academy/federated_quickstart.ipynb Cell 12\u001b[0m line \u001b[0;36m1\n\u001b[0;32m----> <a href='vscode-notebook-cell://ssh-remote%2B172.20.106.81/home/w.lindskog/Documents/PhD/TUM_ai/AI_Academy/federated_quickstart.ipynb#X14sdnNjb2RlLXJlbW90ZQ%3D%3D?line=0'>1</a>\u001b[0m model \u001b[39m=\u001b[39m get_model()\u001b[39m.\u001b[39;49mto(DEVICE)\n",
      "File \u001b[0;32m~/.cache/pypoetry/virtualenvs/ai-academy-mXNs3IK6-py3.9/lib/python3.9/site-packages/torch/nn/modules/module.py:1160\u001b[0m, in \u001b[0;36mModule.to\u001b[0;34m(self, *args, **kwargs)\u001b[0m\n\u001b[1;32m   1156\u001b[0m         \u001b[39mreturn\u001b[39;00m t\u001b[39m.\u001b[39mto(device, dtype \u001b[39mif\u001b[39;00m t\u001b[39m.\u001b[39mis_floating_point() \u001b[39mor\u001b[39;00m t\u001b[39m.\u001b[39mis_complex() \u001b[39melse\u001b[39;00m \u001b[39mNone\u001b[39;00m,\n\u001b[1;32m   1157\u001b[0m                     non_blocking, memory_format\u001b[39m=\u001b[39mconvert_to_format)\n\u001b[1;32m   1158\u001b[0m     \u001b[39mreturn\u001b[39;00m t\u001b[39m.\u001b[39mto(device, dtype \u001b[39mif\u001b[39;00m t\u001b[39m.\u001b[39mis_floating_point() \u001b[39mor\u001b[39;00m t\u001b[39m.\u001b[39mis_complex() \u001b[39melse\u001b[39;00m \u001b[39mNone\u001b[39;00m, non_blocking)\n\u001b[0;32m-> 1160\u001b[0m \u001b[39mreturn\u001b[39;00m \u001b[39mself\u001b[39;49m\u001b[39m.\u001b[39;49m_apply(convert)\n",
      "File \u001b[0;32m~/.cache/pypoetry/virtualenvs/ai-academy-mXNs3IK6-py3.9/lib/python3.9/site-packages/torch/nn/modules/module.py:810\u001b[0m, in \u001b[0;36mModule._apply\u001b[0;34m(self, fn, recurse)\u001b[0m\n\u001b[1;32m    808\u001b[0m \u001b[39mif\u001b[39;00m recurse:\n\u001b[1;32m    809\u001b[0m     \u001b[39mfor\u001b[39;00m module \u001b[39min\u001b[39;00m \u001b[39mself\u001b[39m\u001b[39m.\u001b[39mchildren():\n\u001b[0;32m--> 810\u001b[0m         module\u001b[39m.\u001b[39;49m_apply(fn)\n\u001b[1;32m    812\u001b[0m \u001b[39mdef\u001b[39;00m \u001b[39mcompute_should_use_set_data\u001b[39m(tensor, tensor_applied):\n\u001b[1;32m    813\u001b[0m     \u001b[39mif\u001b[39;00m torch\u001b[39m.\u001b[39m_has_compatible_shallow_copy_type(tensor, tensor_applied):\n\u001b[1;32m    814\u001b[0m         \u001b[39m# If the new tensor has compatible tensor type as the existing tensor,\u001b[39;00m\n\u001b[1;32m    815\u001b[0m         \u001b[39m# the current behavior is to change the tensor in-place using `.data =`,\u001b[39;00m\n\u001b[0;32m   (...)\u001b[0m\n\u001b[1;32m    820\u001b[0m         \u001b[39m# global flag to let the user control whether they want the future\u001b[39;00m\n\u001b[1;32m    821\u001b[0m         \u001b[39m# behavior of overwriting the existing tensor or not.\u001b[39;00m\n",
      "File \u001b[0;32m~/.cache/pypoetry/virtualenvs/ai-academy-mXNs3IK6-py3.9/lib/python3.9/site-packages/torch/nn/modules/module.py:833\u001b[0m, in \u001b[0;36mModule._apply\u001b[0;34m(self, fn, recurse)\u001b[0m\n\u001b[1;32m    829\u001b[0m \u001b[39m# Tensors stored in modules are graph leaves, and we don't want to\u001b[39;00m\n\u001b[1;32m    830\u001b[0m \u001b[39m# track autograd history of `param_applied`, so we have to use\u001b[39;00m\n\u001b[1;32m    831\u001b[0m \u001b[39m# `with torch.no_grad():`\u001b[39;00m\n\u001b[1;32m    832\u001b[0m \u001b[39mwith\u001b[39;00m torch\u001b[39m.\u001b[39mno_grad():\n\u001b[0;32m--> 833\u001b[0m     param_applied \u001b[39m=\u001b[39m fn(param)\n\u001b[1;32m    834\u001b[0m should_use_set_data \u001b[39m=\u001b[39m compute_should_use_set_data(param, param_applied)\n\u001b[1;32m    835\u001b[0m \u001b[39mif\u001b[39;00m should_use_set_data:\n",
      "File \u001b[0;32m~/.cache/pypoetry/virtualenvs/ai-academy-mXNs3IK6-py3.9/lib/python3.9/site-packages/torch/nn/modules/module.py:1158\u001b[0m, in \u001b[0;36mModule.to.<locals>.convert\u001b[0;34m(t)\u001b[0m\n\u001b[1;32m   1155\u001b[0m \u001b[39mif\u001b[39;00m convert_to_format \u001b[39mis\u001b[39;00m \u001b[39mnot\u001b[39;00m \u001b[39mNone\u001b[39;00m \u001b[39mand\u001b[39;00m t\u001b[39m.\u001b[39mdim() \u001b[39min\u001b[39;00m (\u001b[39m4\u001b[39m, \u001b[39m5\u001b[39m):\n\u001b[1;32m   1156\u001b[0m     \u001b[39mreturn\u001b[39;00m t\u001b[39m.\u001b[39mto(device, dtype \u001b[39mif\u001b[39;00m t\u001b[39m.\u001b[39mis_floating_point() \u001b[39mor\u001b[39;00m t\u001b[39m.\u001b[39mis_complex() \u001b[39melse\u001b[39;00m \u001b[39mNone\u001b[39;00m,\n\u001b[1;32m   1157\u001b[0m                 non_blocking, memory_format\u001b[39m=\u001b[39mconvert_to_format)\n\u001b[0;32m-> 1158\u001b[0m \u001b[39mreturn\u001b[39;00m t\u001b[39m.\u001b[39;49mto(device, dtype \u001b[39mif\u001b[39;49;00m t\u001b[39m.\u001b[39;49mis_floating_point() \u001b[39mor\u001b[39;49;00m t\u001b[39m.\u001b[39;49mis_complex() \u001b[39melse\u001b[39;49;00m \u001b[39mNone\u001b[39;49;00m, non_blocking)\n",
      "File \u001b[0;32m~/.cache/pypoetry/virtualenvs/ai-academy-mXNs3IK6-py3.9/lib/python3.9/site-packages/torch/cuda/__init__.py:298\u001b[0m, in \u001b[0;36m_lazy_init\u001b[0;34m()\u001b[0m\n\u001b[1;32m    296\u001b[0m \u001b[39mif\u001b[39;00m \u001b[39m\"\u001b[39m\u001b[39mCUDA_MODULE_LOADING\u001b[39m\u001b[39m\"\u001b[39m \u001b[39mnot\u001b[39;00m \u001b[39min\u001b[39;00m os\u001b[39m.\u001b[39menviron:\n\u001b[1;32m    297\u001b[0m     os\u001b[39m.\u001b[39menviron[\u001b[39m\"\u001b[39m\u001b[39mCUDA_MODULE_LOADING\u001b[39m\u001b[39m\"\u001b[39m] \u001b[39m=\u001b[39m \u001b[39m\"\u001b[39m\u001b[39mLAZY\u001b[39m\u001b[39m\"\u001b[39m\n\u001b[0;32m--> 298\u001b[0m torch\u001b[39m.\u001b[39;49m_C\u001b[39m.\u001b[39;49m_cuda_init()\n\u001b[1;32m    299\u001b[0m \u001b[39m# Some of the queued calls may reentrantly call _lazy_init();\u001b[39;00m\n\u001b[1;32m    300\u001b[0m \u001b[39m# we need to just return without initializing in that case.\u001b[39;00m\n\u001b[1;32m    301\u001b[0m \u001b[39m# However, we must not let any *other* threads in!\u001b[39;00m\n\u001b[1;32m    302\u001b[0m _tls\u001b[39m.\u001b[39mis_initializing \u001b[39m=\u001b[39m \u001b[39mTrue\u001b[39;00m\n",
      "\u001b[0;31mRuntimeError\u001b[0m: No CUDA GPUs are available"
     ]
    }
   ],
   "source": [
    "model = get_model().to(DEVICE)"
   ]
  },
  {
   "cell_type": "code",
   "execution_count": 9,
   "metadata": {},
   "outputs": [],
   "source": [
    "class CIFAR10Client(fl.client.NumPyClient):\n",
    "    def __init__(self, net, trainloader, testloader):\n",
    "        self.net = net\n",
    "        self.trainloader = trainloader\n",
    "        self.testloader = testloader\n",
    "\n",
    "    def get_parameters(self, config):\n",
    "        return [val.cpu().numpy() for _, val in self.net.state_dict().items()]\n",
    "\n",
    "    def set_parameters(self, parameters):\n",
    "        params_dict = zip(self.net.state_dict().keys(), parameters)\n",
    "        state_dict = OrderedDict({k: torch.Tensor(v) for k, v in params_dict})\n",
    "        self.net.load_state_dict(state_dict, strict=True)\n",
    "\n",
    "    def fit(self, parameters, config):\n",
    "        self.set_parameters(parameters)\n",
    "        print(\"Training Started...\")\n",
    "        train(self.net, self.trainloader, epochs=1)\n",
    "        print(\"Training Finished.\")\n",
    "        return self.get_parameters(config={}), len(self.trainloader), {}\n",
    "\n",
    "    def evaluate(self, parameters, config):\n",
    "        self.set_parameters(parameters)\n",
    "        loss, accuracy = test(self.net, self.testloader)\n",
    "        return float(loss), len(self.testloader), {\"accuracy\": float(accuracy), \"loss\": float(loss)}"
   ]
  },
  {
   "cell_type": "code",
   "execution_count": 10,
   "metadata": {},
   "outputs": [
    {
     "name": "stdout",
     "output_type": "stream",
     "text": [
      "Downloading https://www.cs.toronto.edu/~kriz/cifar-10-python.tar.gz to /home/w.lindskog/torch_datasets/cifar-10-python.tar.gz\n"
     ]
    },
    {
     "name": "stderr",
     "output_type": "stream",
     "text": [
      "100.0%\n"
     ]
    },
    {
     "name": "stdout",
     "output_type": "stream",
     "text": [
      "Extracting /home/w.lindskog/torch_datasets/cifar-10-python.tar.gz to /home/w.lindskog/torch_datasets\n",
      "Files already downloaded and verified\n"
     ]
    }
   ],
   "source": [
    "trainloader, testloader = load_data()\n",
    "def client_fn(cid):\n",
    "  return CIFAR10Client(net, trainloader, testloader)"
   ]
  },
  {
   "cell_type": "code",
   "execution_count": 25,
   "metadata": {},
   "outputs": [
    {
     "name": "stderr",
     "output_type": "stream",
     "text": [
      "INFO flwr 2023-11-02 16:40:37,211 | app.py:175 | Starting Flower simulation, config: ServerConfig(num_rounds=3, round_timeout=None)\n",
      "2023-11-02 16:40:40,222\tINFO worker.py:1612 -- Started a local Ray instance. View the dashboard at \u001b[1m\u001b[32m127.0.0.1:8265 \u001b[39m\u001b[22m\n",
      "INFO flwr 2023-11-02 16:40:40,477 | app.py:210 | Flower VCE: Ray initialized with resources: {'CPU': 1.0, 'memory': 17872746087.0, 'GPU': 1.0, 'object_store_memory': 8936373043.0, 'node:172.20.106.81': 1.0, 'node:__internal_head__': 1.0}\n",
      "INFO flwr 2023-11-02 16:40:40,477 | app.py:224 | Flower VCE: Resources for each Virtual Client: {'num_cpus': 1, 'num_gpus': 1}\n",
      "INFO flwr 2023-11-02 16:40:40,481 | app.py:270 | Flower VCE: Creating VirtualClientEngineActorPool with 1 actors\n",
      "INFO flwr 2023-11-02 16:40:40,482 | server.py:89 | Initializing global parameters\n",
      "INFO flwr 2023-11-02 16:40:40,482 | server.py:276 | Requesting initial parameters from one random client\n",
      "ERROR flwr 2023-11-02 16:40:41,703 | ray_client_proxy.py:147 | Traceback (most recent call last):\n",
      "  File \"/home/w.lindskog/.cache/pypoetry/virtualenvs/ai-academy-mXNs3IK6-py3.9/lib/python3.9/site-packages/flwr/simulation/ray_transport/ray_client_proxy.py\", line 140, in _submit_job\n",
      "    res = self.actor_pool.get_client_result(self.cid, timeout)\n",
      "  File \"/home/w.lindskog/.cache/pypoetry/virtualenvs/ai-academy-mXNs3IK6-py3.9/lib/python3.9/site-packages/flwr/simulation/ray_transport/ray_actor.py\", line 402, in get_client_result\n",
      "    return self._fetch_future_result(cid)\n",
      "  File \"/home/w.lindskog/.cache/pypoetry/virtualenvs/ai-academy-mXNs3IK6-py3.9/lib/python3.9/site-packages/flwr/simulation/ray_transport/ray_actor.py\", line 288, in _fetch_future_result\n",
      "    res_cid, res = ray.get(future)  # type: (str, ClientRes)\n",
      "  File \"/home/w.lindskog/.cache/pypoetry/virtualenvs/ai-academy-mXNs3IK6-py3.9/lib/python3.9/site-packages/ray/_private/auto_init_hook.py\", line 24, in auto_init_wrapper\n",
      "    return fn(*args, **kwargs)\n",
      "  File \"/home/w.lindskog/.cache/pypoetry/virtualenvs/ai-academy-mXNs3IK6-py3.9/lib/python3.9/site-packages/ray/_private/client_mode_hook.py\", line 103, in wrapper\n",
      "    return func(*args, **kwargs)\n",
      "  File \"/home/w.lindskog/.cache/pypoetry/virtualenvs/ai-academy-mXNs3IK6-py3.9/lib/python3.9/site-packages/ray/_private/worker.py\", line 2524, in get\n",
      "    raise value.as_instanceof_cause()\n",
      "ray.exceptions.RayTaskError(ClientException): \u001b[36mray::DefaultActor.run()\u001b[39m (pid=8717, ip=172.20.106.81, actor_id=dd2629fcb39162275b2c7eea01000000, repr=<flwr.simulation.ray_transport.ray_actor.DefaultActor object at 0x7f1d79356e50>)\n",
      "  File \"/home/w.lindskog/.cache/pypoetry/virtualenvs/ai-academy-mXNs3IK6-py3.9/lib/python3.9/site-packages/flwr/simulation/ray_transport/ray_client_proxy.py\", line 178, in get_parameters\n",
      "    client: Client = _create_client(self.client_fn, self.cid)\n",
      "  File \"/home/w.lindskog/.cache/pypoetry/virtualenvs/ai-academy-mXNs3IK6-py3.9/lib/python3.9/site-packages/flwr/simulation/ray_transport/ray_client_proxy.py\", line 284, in _create_client\n",
      "    client_like: ClientLike = client_fn(cid)\n",
      "  File \"/tmp/ipykernel_3145/1779230125.py\", line 3, in client_fn\n",
      "NameError: name 'net' is not defined\n",
      "\n",
      "The above exception was the direct cause of the following exception:\n",
      "\n",
      "\u001b[36mray::DefaultActor.run()\u001b[39m (pid=8717, ip=172.20.106.81, actor_id=dd2629fcb39162275b2c7eea01000000, repr=<flwr.simulation.ray_transport.ray_actor.DefaultActor object at 0x7f1d79356e50>)\n",
      "  File \"/home/w.lindskog/.cache/pypoetry/virtualenvs/ai-academy-mXNs3IK6-py3.9/lib/python3.9/site-packages/flwr/simulation/ray_transport/ray_actor.py\", line 72, in run\n",
      "    raise ClientException(str(message)) from ex\n",
      "flwr.simulation.ray_transport.ray_actor.ClientException: \n",
      ">>>>>>>A ClientException occurred.('\\n\\tSomething went wrong when running your client workload.\\n\\tClient 0 crashed when the DefaultActor was running its workload.\\n\\tException triggered on the client side: Traceback (most recent call last):\\n  File \"/home/w.lindskog/.cache/pypoetry/virtualenvs/ai-academy-mXNs3IK6-py3.9/lib/python3.9/site-packages/flwr/simulation/ray_transport/ray_actor.py\", line 60, in run\\n    job_results = job_fn()\\n  File \"/home/w.lindskog/.cache/pypoetry/virtualenvs/ai-academy-mXNs3IK6-py3.9/lib/python3.9/site-packages/flwr/simulation/ray_transport/ray_client_proxy.py\", line 178, in get_parameters\\n    client: Client = _create_client(self.client_fn, self.cid)\\n  File \"/home/w.lindskog/.cache/pypoetry/virtualenvs/ai-academy-mXNs3IK6-py3.9/lib/python3.9/site-packages/flwr/simulation/ray_transport/ray_client_proxy.py\", line 284, in _create_client\\n    client_like: ClientLike = client_fn(cid)\\n  File \"/tmp/ipykernel_3145/1779230125.py\", line 3, in client_fn\\nNameError: name \\'net\\' is not defined\\n',)\n",
      "\n",
      "ERROR flwr 2023-11-02 16:40:41,703 | ray_client_proxy.py:148 | \u001b[36mray::DefaultActor.run()\u001b[39m (pid=8717, ip=172.20.106.81, actor_id=dd2629fcb39162275b2c7eea01000000, repr=<flwr.simulation.ray_transport.ray_actor.DefaultActor object at 0x7f1d79356e50>)\n",
      "  File \"/home/w.lindskog/.cache/pypoetry/virtualenvs/ai-academy-mXNs3IK6-py3.9/lib/python3.9/site-packages/flwr/simulation/ray_transport/ray_client_proxy.py\", line 178, in get_parameters\n",
      "    client: Client = _create_client(self.client_fn, self.cid)\n",
      "  File \"/home/w.lindskog/.cache/pypoetry/virtualenvs/ai-academy-mXNs3IK6-py3.9/lib/python3.9/site-packages/flwr/simulation/ray_transport/ray_client_proxy.py\", line 284, in _create_client\n",
      "    client_like: ClientLike = client_fn(cid)\n",
      "  File \"/tmp/ipykernel_3145/1779230125.py\", line 3, in client_fn\n",
      "NameError: name 'net' is not defined\n",
      "\n",
      "The above exception was the direct cause of the following exception:\n",
      "\n",
      "\u001b[36mray::DefaultActor.run()\u001b[39m (pid=8717, ip=172.20.106.81, actor_id=dd2629fcb39162275b2c7eea01000000, repr=<flwr.simulation.ray_transport.ray_actor.DefaultActor object at 0x7f1d79356e50>)\n",
      "  File \"/home/w.lindskog/.cache/pypoetry/virtualenvs/ai-academy-mXNs3IK6-py3.9/lib/python3.9/site-packages/flwr/simulation/ray_transport/ray_actor.py\", line 72, in run\n",
      "    raise ClientException(str(message)) from ex\n",
      "flwr.simulation.ray_transport.ray_actor.ClientException: \n",
      ">>>>>>>A ClientException occurred.('\\n\\tSomething went wrong when running your client workload.\\n\\tClient 0 crashed when the DefaultActor was running its workload.\\n\\tException triggered on the client side: Traceback (most recent call last):\\n  File \"/home/w.lindskog/.cache/pypoetry/virtualenvs/ai-academy-mXNs3IK6-py3.9/lib/python3.9/site-packages/flwr/simulation/ray_transport/ray_actor.py\", line 60, in run\\n    job_results = job_fn()\\n  File \"/home/w.lindskog/.cache/pypoetry/virtualenvs/ai-academy-mXNs3IK6-py3.9/lib/python3.9/site-packages/flwr/simulation/ray_transport/ray_client_proxy.py\", line 178, in get_parameters\\n    client: Client = _create_client(self.client_fn, self.cid)\\n  File \"/home/w.lindskog/.cache/pypoetry/virtualenvs/ai-academy-mXNs3IK6-py3.9/lib/python3.9/site-packages/flwr/simulation/ray_transport/ray_client_proxy.py\", line 284, in _create_client\\n    client_like: ClientLike = client_fn(cid)\\n  File \"/tmp/ipykernel_3145/1779230125.py\", line 3, in client_fn\\nNameError: name \\'net\\' is not defined\\n',)\n",
      "ERROR flwr 2023-11-02 16:40:41,704 | app.py:294 | \u001b[36mray::DefaultActor.run()\u001b[39m (pid=8717, ip=172.20.106.81, actor_id=dd2629fcb39162275b2c7eea01000000, repr=<flwr.simulation.ray_transport.ray_actor.DefaultActor object at 0x7f1d79356e50>)\n",
      "  File \"/home/w.lindskog/.cache/pypoetry/virtualenvs/ai-academy-mXNs3IK6-py3.9/lib/python3.9/site-packages/flwr/simulation/ray_transport/ray_client_proxy.py\", line 178, in get_parameters\n",
      "    client: Client = _create_client(self.client_fn, self.cid)\n",
      "  File \"/home/w.lindskog/.cache/pypoetry/virtualenvs/ai-academy-mXNs3IK6-py3.9/lib/python3.9/site-packages/flwr/simulation/ray_transport/ray_client_proxy.py\", line 284, in _create_client\n",
      "    client_like: ClientLike = client_fn(cid)\n",
      "  File \"/tmp/ipykernel_3145/1779230125.py\", line 3, in client_fn\n",
      "NameError: name 'net' is not defined\n",
      "\n",
      "The above exception was the direct cause of the following exception:\n",
      "\n",
      "\u001b[36mray::DefaultActor.run()\u001b[39m (pid=8717, ip=172.20.106.81, actor_id=dd2629fcb39162275b2c7eea01000000, repr=<flwr.simulation.ray_transport.ray_actor.DefaultActor object at 0x7f1d79356e50>)\n",
      "  File \"/home/w.lindskog/.cache/pypoetry/virtualenvs/ai-academy-mXNs3IK6-py3.9/lib/python3.9/site-packages/flwr/simulation/ray_transport/ray_actor.py\", line 72, in run\n",
      "    raise ClientException(str(message)) from ex\n",
      "flwr.simulation.ray_transport.ray_actor.ClientException: \n",
      ">>>>>>>A ClientException occurred.('\\n\\tSomething went wrong when running your client workload.\\n\\tClient 0 crashed when the DefaultActor was running its workload.\\n\\tException triggered on the client side: Traceback (most recent call last):\\n  File \"/home/w.lindskog/.cache/pypoetry/virtualenvs/ai-academy-mXNs3IK6-py3.9/lib/python3.9/site-packages/flwr/simulation/ray_transport/ray_actor.py\", line 60, in run\\n    job_results = job_fn()\\n  File \"/home/w.lindskog/.cache/pypoetry/virtualenvs/ai-academy-mXNs3IK6-py3.9/lib/python3.9/site-packages/flwr/simulation/ray_transport/ray_client_proxy.py\", line 178, in get_parameters\\n    client: Client = _create_client(self.client_fn, self.cid)\\n  File \"/home/w.lindskog/.cache/pypoetry/virtualenvs/ai-academy-mXNs3IK6-py3.9/lib/python3.9/site-packages/flwr/simulation/ray_transport/ray_client_proxy.py\", line 284, in _create_client\\n    client_like: ClientLike = client_fn(cid)\\n  File \"/tmp/ipykernel_3145/1779230125.py\", line 3, in client_fn\\nNameError: name \\'net\\' is not defined\\n',)\n",
      "ERROR flwr 2023-11-02 16:40:41,704 | app.py:295 | Your simulation crashed :(. This could be because of several reasons.The most common are: \n",
      "\t > Your system couldn't fit a single VirtualClient: try lowering `client_resources`.\n",
      "\t > All the actors in your pool crashed. This could be because: \n",
      "\t\t - You clients hit an out-of-memory (OOM) error and actors couldn't recover from it. Try launching your simulation with more generous `client_resources` setting (i.e. it seems {'num_cpus': 1, 'num_gpus': 1} is not enough for your workload). Use fewer concurrent actors. \n",
      "\t\t - You were running a multi-node simulation and all worker nodes disconnected. The head node might still be alive but cannot accommodate any actor with resources: {'num_cpus': 1, 'num_gpus': 1}.\n"
     ]
    },
    {
     "data": {
      "text/plain": []
     },
     "execution_count": 25,
     "metadata": {},
     "output_type": "execute_result"
    }
   ],
   "source": [
    "def weighted_average(metrics):\n",
    "  accuracies = [num_examples * m[\"accuracy\"] for num_examples, m in metrics]\n",
    "  losses = [num_examples * m[\"loss\"] for num_examples, m in metrics]\n",
    "  examples = [num_examples for num_examples, _ in metrics]\n",
    "  return {\"accuracy\": sum(accuracies) / sum(examples), \"loss\": sum(losses) / sum(examples)}\n",
    "\n",
    "strategy = fl.server.strategy.FedAvg(\n",
    "    fraction_fit=1.0,\n",
    "    fraction_evaluate=1.0,\n",
    "    evaluate_metrics_aggregation_fn=weighted_average,\n",
    ")\n",
    "\n",
    "fl.simulation.start_simulation(\n",
    "    client_fn=client_fn,\n",
    "    num_clients=NUM_CLIENTS,\n",
    "    config=fl.server.ServerConfig(num_rounds=NUM_ROUNDS),\n",
    "    strategy=strategy,\n",
    "    client_resources={\"num_cpus\": 1, \"num_gpus\": 1},\n",
    "    ray_init_args={\"log_to_driver\": False, \"num_cpus\": 1, \"num_gpus\": 1}\n",
    ")"
   ]
  },
  {
   "cell_type": "code",
   "execution_count": null,
   "metadata": {},
   "outputs": [],
   "source": []
  }
 ],
 "metadata": {
  "kernelspec": {
   "display_name": "ai-academy-mXNs3IK6-py3.9",
   "language": "python",
   "name": "python3"
  },
  "language_info": {
   "codemirror_mode": {
    "name": "ipython",
    "version": 3
   },
   "file_extension": ".py",
   "mimetype": "text/x-python",
   "name": "python",
   "nbconvert_exporter": "python",
   "pygments_lexer": "ipython3",
   "version": "3.9.5"
  }
 },
 "nbformat": 4,
 "nbformat_minor": 2
}
