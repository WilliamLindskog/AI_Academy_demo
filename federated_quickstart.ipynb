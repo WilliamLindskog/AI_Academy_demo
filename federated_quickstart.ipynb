{
 "cells": [
  {
   "cell_type": "markdown",
   "metadata": {},
   "source": [
    "# Federated Learning using PyTorch and Flower\n",
    "\n",
    "This tutorial will show how to leverage PyTorch to federate the training of a convolutional neural network over multiple clients using [Flower](https://flower.dev/). More specifically, we will use a ResNet model for the CIFAR10 dataset. The end goal is to classify 10 different objects in small images. "
   ]
  },
  {
   "cell_type": "code",
   "execution_count": 19,
   "metadata": {},
   "outputs": [
    {
     "name": "stdout",
     "output_type": "stream",
     "text": [
      "\u001b[33mWARNING: You are using pip version 21.1.1; however, version 23.3.1 is available.\n",
      "You should consider upgrading via the '/home/w.lindskog/.pyenv/versions/3.9.5/bin/python3.9 -m pip install --upgrade pip' command.\u001b[0m\n"
     ]
    }
   ],
   "source": [
    "!pip install -q flwr[\"simulation\"] torch torchvision matplotlib numpy"
   ]
  },
  {
   "cell_type": "markdown",
   "metadata": {},
   "source": [
    "We can now import the relevant modules."
   ]
  },
  {
   "cell_type": "code",
   "execution_count": 20,
   "metadata": {},
   "outputs": [],
   "source": [
    "from collections import OrderedDict\n",
    "from typing import Callable, Dict, List, Optional, Tuple, Union\n",
    "import os\n",
    "import random\n",
    "import warnings\n",
    "\n",
    "import flwr as fl\n",
    "import torch\n",
    "import torchvision\n",
    "from torchvision import transforms\n",
    "\n",
    "from torch.utils.data import DataLoader\n",
    "\n",
    "from matplotlib import pyplot as plt\n",
    "import numpy as np"
   ]
  },
  {
   "cell_type": "markdown",
   "metadata": {},
   "source": [
    "Next we will set some global variables and disable some of the logging to clear out our output."
   ]
  },
  {
   "cell_type": "code",
   "execution_count": 21,
   "metadata": {},
   "outputs": [],
   "source": [
    "warnings.filterwarnings(\"ignore\", category=UserWarning)\n",
    "warnings.filterwarnings(\"ignore\", category=DeprecationWarning)\n",
    "os.environ['TF_CPP_MIN_LOG_LEVEL'] = '2'\n",
    "warnings.simplefilter('ignore')\n",
    "\n",
    "DEVICE = torch.device(\"cpu\")\n",
    "NUM_CLIENTS = 2\n",
    "NUM_ROUNDS = 5"
   ]
  },
  {
   "cell_type": "markdown",
   "metadata": {},
   "source": [
    "Next, we'll create a function that fetches the data from torchvision. "
   ]
  },
  {
   "cell_type": "code",
   "execution_count": 22,
   "metadata": {},
   "outputs": [],
   "source": [
    "def load_data() -> Union[DataLoader, DataLoader]:\n",
    "    \"\"\" Load data CIFAR10 from torchvision.datasets \"\"\"\n",
    "    # Set transform\n",
    "    transform = transforms.Compose(\n",
    "        [\n",
    "            # cifar10 optimal transform\n",
    "            transforms.Resize(32),\n",
    "            transforms.RandomCrop(32, padding=4),\n",
    "            transforms.RandomHorizontalFlip(),\n",
    "            transforms.ToTensor(),\n",
    "            transforms.Normalize(\n",
    "                mean=[0.49139968, 0.48215841, 0.44653091],\n",
    "                std=[0.24703223, 0.24348513, 0.26158784],\n",
    "            ),\n",
    "        ]\n",
    "    )\n",
    "\n",
    "    train_dataset = torchvision.datasets.CIFAR10(\n",
    "        root=\"~/torch_datasets\", train=True, transform=transform, download=True\n",
    "    )\n",
    "    test_dataset = torchvision.datasets.CIFAR10(\n",
    "        root=\"~/torch_datasets\", train=False, transform=transform, download=True\n",
    "    )\n",
    "\n",
    "    # Set to data loader\n",
    "    # load 10% randomly sampled training and test dataset\n",
    "    train_dataset = torch.utils.data.Subset(train_dataset, random.sample(range(len(train_dataset)), int(0.1 * len(train_dataset))))\n",
    "    test_dataset = torch.utils.data.Subset(test_dataset, random.sample(range(len(test_dataset)), int(0.1 * len(test_dataset))))\n",
    "    train_loader = torch.utils.data.DataLoader(\n",
    "        train_dataset, batch_size=32, shuffle=True, num_workers=4, pin_memory=True\n",
    "    )\n",
    "    test_loader = torch.utils.data.DataLoader(\n",
    "        test_dataset, batch_size=32, shuffle=False, num_workers=4, pin_memory=True\n",
    "    )\n",
    "\n",
    "    return train_loader, test_loader"
   ]
  },
  {
   "cell_type": "markdown",
   "metadata": {},
   "source": [
    "Next, we get a pretrained resNet model. "
   ]
  },
  {
   "cell_type": "code",
   "execution_count": 23,
   "metadata": {},
   "outputs": [],
   "source": [
    "# Get simple MLP model\n",
    "def get_model() -> torch.nn.Module:\n",
    "    \"\"\" Get ResNet18 model \"\"\"\n",
    "    # simple mlp model for cifar10\n",
    "    class MLP(torch.nn.Module):\n",
    "        def __init__(self):\n",
    "            super().__init__()\n",
    "            self.flatten = torch.nn.Flatten()\n",
    "            self.linear_relu_stack = torch.nn.Sequential(\n",
    "                torch.nn.Linear(32 * 32 * 3, 512),\n",
    "                torch.nn.ReLU(),\n",
    "                torch.nn.Linear(512, 512),\n",
    "                torch.nn.ReLU(),\n",
    "                torch.nn.Linear(512, 10),\n",
    "                torch.nn.ReLU(),\n",
    "            )\n",
    "\n",
    "        def forward(self, x):\n",
    "            x = self.flatten(x)\n",
    "            logits = self.linear_relu_stack(x)\n",
    "            return logits\n",
    "        \n",
    "    return MLP()"
   ]
  },
  {
   "cell_type": "code",
   "execution_count": 24,
   "metadata": {},
   "outputs": [],
   "source": [
    "def train(net, trainloader, epochs):\n",
    "    loss_fn = torch.nn.CrossEntropyLoss()\n",
    "    optimizer = torch.optim.Adam(net.parameters(), lr=5e-4)\n",
    "    net.train()\n",
    "    for _ in range(epochs):\n",
    "        for inputs, targets in trainloader:\n",
    "            inputs, targets = inputs.to(DEVICE), targets.to(DEVICE)\n",
    "            outputs = net(inputs)\n",
    "            loss = loss_fn(outputs, targets)\n",
    "            loss.backward()\n",
    "            optimizer.step()\n",
    "            optimizer.zero_grad()\n",
    "\n",
    "\n",
    "def test(net, testloader):\n",
    "    loss_fn = torch.nn.CrossEntropyLoss()\n",
    "    loss = 0\n",
    "    net.eval()\n",
    "    total, correct = 0, 0\n",
    "    with torch.no_grad():\n",
    "        for inputs, targets in testloader:\n",
    "            inputs, targets = inputs.to(DEVICE), targets.to(DEVICE)\n",
    "            outputs = net(inputs)\n",
    "            loss += loss_fn(outputs, targets).item()\n",
    "            predictions = torch.argmax(outputs, dim=-1)\n",
    "            total += targets.size(0)\n",
    "            correct += (predictions == targets).sum().item()\n",
    "    accuracy = correct / total\n",
    "    loss /= len(testloader.dataset)\n",
    "    return loss, accuracy"
   ]
  },
  {
   "cell_type": "code",
   "execution_count": 25,
   "metadata": {},
   "outputs": [],
   "source": [
    "class CIFAR10Client(fl.client.NumPyClient):\n",
    "    def __init__(self,):\n",
    "        self.net = get_model().to(DEVICE)\n",
    "        self.trainloader, self.testloader = load_data()\n",
    "\n",
    "    def get_parameters(self, config):\n",
    "        return [val.cpu().numpy() for _, val in self.net.state_dict().items()]\n",
    "\n",
    "    def set_parameters(self, parameters):\n",
    "        params_dict = zip(self.net.state_dict().keys(), parameters)\n",
    "        state_dict = OrderedDict(\n",
    "            {\n",
    "                k: torch.Tensor(v) if v.shape != torch.Size([]) else torch.Tensor([0])\n",
    "                for k, v in params_dict\n",
    "            }\n",
    "        )\n",
    "        print(\"-------------- State dict ------------------: \", state_dict)\n",
    "        self.net.load_state_dict(state_dict, strict=True)\n",
    "\n",
    "    def fit(self, parameters, config):\n",
    "        self.set_parameters(parameters)\n",
    "        print(\"Training Started...\")\n",
    "        train(self.net, self.trainloader, epochs=1)\n",
    "        print(\"Training Finished.\")\n",
    "        return self.get_parameters(config={}), len(self.trainloader), {}\n",
    "\n",
    "    def evaluate(self, parameters, config):\n",
    "        self.set_parameters(parameters)\n",
    "        loss, accuracy = test(self.net, self.testloader)\n",
    "        return float(loss), len(self.testloader), {\"accuracy\": float(accuracy), \"loss\": float(loss)}"
   ]
  },
  {
   "cell_type": "code",
   "execution_count": 26,
   "metadata": {},
   "outputs": [],
   "source": [
    "def client_fn(cid):\n",
    "  return CIFAR10Client()"
   ]
  },
  {
   "cell_type": "code",
   "execution_count": 27,
   "metadata": {},
   "outputs": [
    {
     "name": "stderr",
     "output_type": "stream",
     "text": [
      "INFO flwr 2023-11-06 17:58:29,164 | app.py:175 | Starting Flower simulation, config: ServerConfig(num_rounds=5, round_timeout=None)\n",
      "2023-11-06 17:58:32,220\tINFO worker.py:1612 -- Started a local Ray instance. View the dashboard at \u001b[1m\u001b[32m127.0.0.1:8265 \u001b[39m\u001b[22m\n",
      "INFO flwr 2023-11-06 17:58:32,476 | app.py:210 | Flower VCE: Ray initialized with resources: {'CPU': 1.0, 'node:__internal_head__': 1.0, 'memory': 17110081536.0, 'accelerator_type:G': 1.0, 'GPU': 1.0, 'object_store_memory': 8555040768.0, 'node:172.20.106.81': 1.0}\n",
      "INFO flwr 2023-11-06 17:58:32,476 | app.py:224 | Flower VCE: Resources for each Virtual Client: {'num_cpus': 1, 'num_gpus': 1}\n",
      "INFO flwr 2023-11-06 17:58:32,481 | app.py:270 | Flower VCE: Creating VirtualClientEngineActorPool with 1 actors\n",
      "INFO flwr 2023-11-06 17:58:32,481 | server.py:89 | Initializing global parameters\n",
      "INFO flwr 2023-11-06 17:58:32,482 | server.py:276 | Requesting initial parameters from one random client\n",
      "INFO flwr 2023-11-06 17:58:34,322 | server.py:280 | Received initial parameters from one random client\n",
      "INFO flwr 2023-11-06 17:58:34,322 | server.py:91 | Evaluating initial parameters\n",
      "INFO flwr 2023-11-06 17:58:34,323 | server.py:104 | FL starting\n",
      "DEBUG flwr 2023-11-06 17:58:34,323 | server.py:222 | fit_round 1: strategy sampled 2 clients (out of 2)\n",
      "DEBUG flwr 2023-11-06 17:58:38,593 | server.py:236 | fit_round 1 received 2 results and 0 failures\n",
      "WARNING flwr 2023-11-06 17:58:38,602 | fedavg.py:242 | No fit_metrics_aggregation_fn provided\n",
      "DEBUG flwr 2023-11-06 17:58:38,603 | server.py:173 | evaluate_round 1: strategy sampled 2 clients (out of 2)\n",
      "DEBUG flwr 2023-11-06 17:58:40,381 | server.py:187 | evaluate_round 1 received 2 results and 0 failures\n",
      "DEBUG flwr 2023-11-06 17:58:40,381 | server.py:222 | fit_round 2: strategy sampled 2 clients (out of 2)\n"
     ]
    },
    {
     "name": "stdout",
     "output_type": "stream",
     "text": [
      "accuracy:  0.195\n"
     ]
    },
    {
     "name": "stderr",
     "output_type": "stream",
     "text": [
      "DEBUG flwr 2023-11-06 17:58:43,930 | server.py:236 | fit_round 2 received 2 results and 0 failures\n",
      "DEBUG flwr 2023-11-06 17:58:43,938 | server.py:173 | evaluate_round 2: strategy sampled 2 clients (out of 2)\n",
      "DEBUG flwr 2023-11-06 17:58:45,715 | server.py:187 | evaluate_round 2 received 2 results and 0 failures\n",
      "DEBUG flwr 2023-11-06 17:58:45,716 | server.py:222 | fit_round 3: strategy sampled 2 clients (out of 2)\n"
     ]
    },
    {
     "name": "stdout",
     "output_type": "stream",
     "text": [
      "accuracy:  0.286\n"
     ]
    },
    {
     "name": "stderr",
     "output_type": "stream",
     "text": [
      "DEBUG flwr 2023-11-06 17:58:49,273 | server.py:236 | fit_round 3 received 2 results and 0 failures\n",
      "DEBUG flwr 2023-11-06 17:58:49,279 | server.py:173 | evaluate_round 3: strategy sampled 2 clients (out of 2)\n",
      "DEBUG flwr 2023-11-06 17:58:51,044 | server.py:187 | evaluate_round 3 received 2 results and 0 failures\n",
      "DEBUG flwr 2023-11-06 17:58:51,045 | server.py:222 | fit_round 4: strategy sampled 2 clients (out of 2)\n"
     ]
    },
    {
     "name": "stdout",
     "output_type": "stream",
     "text": [
      "accuracy:  0.3155\n"
     ]
    },
    {
     "name": "stderr",
     "output_type": "stream",
     "text": [
      "DEBUG flwr 2023-11-06 17:58:54,636 | server.py:236 | fit_round 4 received 2 results and 0 failures\n",
      "DEBUG flwr 2023-11-06 17:58:54,644 | server.py:173 | evaluate_round 4: strategy sampled 2 clients (out of 2)\n",
      "DEBUG flwr 2023-11-06 17:58:56,391 | server.py:187 | evaluate_round 4 received 2 results and 0 failures\n",
      "DEBUG flwr 2023-11-06 17:58:56,391 | server.py:222 | fit_round 5: strategy sampled 2 clients (out of 2)\n"
     ]
    },
    {
     "name": "stdout",
     "output_type": "stream",
     "text": [
      "accuracy:  0.348\n"
     ]
    },
    {
     "name": "stderr",
     "output_type": "stream",
     "text": [
      "DEBUG flwr 2023-11-06 17:58:59,971 | server.py:236 | fit_round 5 received 2 results and 0 failures\n",
      "DEBUG flwr 2023-11-06 17:58:59,977 | server.py:173 | evaluate_round 5: strategy sampled 2 clients (out of 2)\n",
      "DEBUG flwr 2023-11-06 17:59:01,732 | server.py:187 | evaluate_round 5 received 2 results and 0 failures\n",
      "INFO flwr 2023-11-06 17:59:01,732 | server.py:153 | FL finished in 27.409336004999204\n",
      "INFO flwr 2023-11-06 17:59:01,733 | app.py:225 | app_fit: losses_distributed [(1, 0.07227551662921905), (2, 0.06751345759630203), (3, 0.06369143313169479), (4, 0.06263480401039123), (5, 0.06235747754573823)]\n",
      "INFO flwr 2023-11-06 17:59:01,733 | app.py:226 | app_fit: metrics_distributed_fit {}\n",
      "INFO flwr 2023-11-06 17:59:01,734 | app.py:227 | app_fit: metrics_distributed {'accuracy': [(1, 0.195), (2, 0.286), (3, 0.3155), (4, 0.348), (5, 0.328)], 'loss': [(1, 0.07227551662921905), (2, 0.06751345759630203), (3, 0.06369143313169479), (4, 0.06263480401039123), (5, 0.06235747754573823)]}\n",
      "INFO flwr 2023-11-06 17:59:01,734 | app.py:228 | app_fit: losses_centralized []\n",
      "INFO flwr 2023-11-06 17:59:01,734 | app.py:229 | app_fit: metrics_centralized {}\n"
     ]
    },
    {
     "name": "stdout",
     "output_type": "stream",
     "text": [
      "accuracy:  0.328\n"
     ]
    }
   ],
   "source": [
    "def weighted_average(metrics):\n",
    "    accuracies = [num_examples * m[\"accuracy\"] for num_examples, m in metrics]\n",
    "    losses = [num_examples * m[\"loss\"] for num_examples, m in metrics]\n",
    "    examples = [num_examples for num_examples, _ in metrics]\n",
    "    print(\"accuracy: \", sum(accuracies) / sum(examples))\n",
    "    return {\"accuracy\": sum(accuracies) / sum(examples), \"loss\": sum(losses) / sum(examples)}\n",
    "\n",
    "strategy = fl.server.strategy.FedAvg(\n",
    "    fraction_fit=1.0,\n",
    "    fraction_evaluate=1.0,\n",
    "    evaluate_metrics_aggregation_fn=weighted_average,\n",
    ")\n",
    "\n",
    "hist = fl.simulation.start_simulation(\n",
    "    client_fn=client_fn,\n",
    "    num_clients=NUM_CLIENTS,\n",
    "    config=fl.server.ServerConfig(num_rounds=NUM_ROUNDS),\n",
    "    strategy=strategy,\n",
    "    client_resources={\"num_cpus\": 1, \"num_gpus\": 1},\n",
    "    ray_init_args={\"log_to_driver\": False, \"num_cpus\": 1, \"num_gpus\": 1}\n",
    ")"
   ]
  },
  {
   "cell_type": "code",
   "execution_count": 28,
   "metadata": {},
   "outputs": [
    {
     "data": {
      "image/png": "[encoded data removed]",
      "text/plain": [
       "<Figure size 640x480 with 2 Axes>"
      ]
     },
     "metadata": {},
     "output_type": "display_data"
    }
   ],
   "source": [
    "metric_type = \"distributed\"\n",
    "metric_dict = (\n",
    "    hist.metrics_centralized\n",
    "    if metric_type == \"centralized\"\n",
    "    else hist.metrics_distributed\n",
    ")\n",
    "_, values = zip(*metric_dict[\"accuracy\"])\n",
    "\n",
    "# let's extract decentralized loss (main metric reported in FedProx paper)\n",
    "rounds_loss, values_loss = zip(*hist.losses_distributed)\n",
    "\n",
    "_, axs = plt.subplots(nrows=2, ncols=1, sharex=\"row\")\n",
    "axs[0].plot(np.asarray(rounds_loss), np.asarray(values_loss))\n",
    "axs[1].plot(np.asarray(rounds_loss), np.asarray(values))\n",
    "\n",
    "axs[0].set_ylabel(\"Loss\")\n",
    "axs[1].set_ylabel(\"Accuracy\")\n",
    "\n",
    "# plt.title(f\"{metric_type.capitalize()} Validation - MNIST\")\n",
    "plt.xlabel(\"Rounds\")\n",
    "# plt.legend(loc=\"lower right\")\n",
    "\n",
    "plt.show()"
   ]
  },
  {
   "cell_type": "code",
   "execution_count": null,
   "metadata": {},
   "outputs": [],
   "source": []
  }
 ],
 "metadata": {
  "kernelspec": {
   "display_name": "ai-academy-mXNs3IK6-py3.9",
   "language": "python",
   "name": "python3"
  },
  "language_info": {
   "codemirror_mode": {
    "name": "ipython",
    "version": 3
   },
   "file_extension": ".py",
   "mimetype": "text/x-python",
   "name": "python",
   "nbconvert_exporter": "python",
   "pygments_lexer": "ipython3",
   "version": "3.9.5"
  }
 },
 "nbformat": 4,
 "nbformat_minor": 2
}
